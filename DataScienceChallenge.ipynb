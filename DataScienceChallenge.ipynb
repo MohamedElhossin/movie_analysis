{
  "nbformat": 4,
  "nbformat_minor": 0,
  "metadata": {
    "colab": {
      "name": "DataScienceChallenge.ipynb",
      "provenance": [],
      "collapsed_sections": [],
      "include_colab_link": true
    },
    "kernelspec": {
      "name": "python3",
      "display_name": "Python 3"
    }
  },
  "cells": [
    {
      "cell_type": "markdown",
      "metadata": {
        "id": "view-in-github",
        "colab_type": "text"
      },
      "source": [
        "<a href=\"https://colab.research.google.com/github/MohamedElhossin/movie_analysis/blob/master/DataScienceChallenge.ipynb\" target=\"_parent\"><img src=\"https://colab.research.google.com/assets/colab-badge.svg\" alt=\"Open In Colab\"/></a>"
      ]
    },
    {
      "cell_type": "code",
      "metadata": {
        "id": "Ig7BDSRVXoXH",
        "colab_type": "code",
        "colab": {}
      },
      "source": [
        "import pandas as pd \n",
        "import matplotlib.pyplot as plt\n",
        "import seaborn as sns\n",
        "sns.set()"
      ],
      "execution_count": null,
      "outputs": []
    },
    {
      "cell_type": "code",
      "metadata": {
        "id": "bmx5kq8KXoHa",
        "colab_type": "code",
        "colab": {
          "base_uri": "https://localhost:8080/",
          "height": 54
        },
        "outputId": "99474509-699a-4207-9a3a-8c9ffc77ebf8"
      },
      "source": [
        "# Connect to my google drive\n",
        "from google.colab import drive\n",
        "drive.mount('/content/gdrive')"
      ],
      "execution_count": null,
      "outputs": [
        {
          "output_type": "stream",
          "text": [
            "Drive already mounted at /content/gdrive; to attempt to forcibly remount, call drive.mount(\"/content/gdrive\", force_remount=True).\n"
          ],
          "name": "stdout"
        }
      ]
    },
    {
      "cell_type": "code",
      "metadata": {
        "id": "QCKm8I6iXwjR",
        "colab_type": "code",
        "colab": {}
      },
      "source": [
        "# Read the dataset \n",
        "dataset =  pd.read_csv('gdrive/My Drive/Launchpad C5/u_tmdb_5000_movies.csv')"
      ],
      "execution_count": null,
      "outputs": []
    },
    {
      "cell_type": "code",
      "metadata": {
        "id": "AEJWCis9YzVQ",
        "colab_type": "code",
        "colab": {
          "base_uri": "https://localhost:8080/",
          "height": 140
        },
        "outputId": "12c83389-f199-4417-9377-4cb5beb2e3aa"
      },
      "source": [
        "# Show the columns of movie dataset \n",
        "dataset.columns"
      ],
      "execution_count": null,
      "outputs": [
        {
          "output_type": "execute_result",
          "data": {
            "text/plain": [
              "Index(['Unnamed: 0', 'budget', 'genres', 'homepage', 'id', 'keywords',\n",
              "       'original_language', 'original_title', 'overview', 'popularity',\n",
              "       'production_companies', 'production_countries', 'release_date',\n",
              "       'revenue', 'runtime', 'spoken_languages', 'status', 'tagline', 'title',\n",
              "       'vote_average', 'vote_count', 'new_genres', 'main_genre'],\n",
              "      dtype='object')"
            ]
          },
          "metadata": {
            "tags": []
          },
          "execution_count": 5
        }
      ]
    },
    {
      "cell_type": "code",
      "metadata": {
        "id": "F94_Vsv-ZWHn",
        "colab_type": "code",
        "colab": {}
      },
      "source": [
        "#Selct columns title, main_genre and vote_average \n",
        "sample_df =  dataset[['title','main_genre','vote_average']]\n",
        "# --> print(\"The index of sample_df  : \" , sample_df.columns)"
      ],
      "execution_count": null,
      "outputs": []
    },
    {
      "cell_type": "code",
      "metadata": {
        "id": "vbbsjEidZgTq",
        "colab_type": "code",
        "colab": {}
      },
      "source": [
        "#Select the fisrt 100 rows \n",
        "df_first100 = sample_df.iloc[:100]\n",
        "# --> print(\"The shape of df_first100  : \" , df_first100.shape)"
      ],
      "execution_count": null,
      "outputs": []
    },
    {
      "cell_type": "code",
      "metadata": {
        "id": "li22MqLKZxAq",
        "colab_type": "code",
        "colab": {}
      },
      "source": [
        "# Select movies have rating over 7.3 \n",
        "movies_rating_over_7_3 = sample_df[sample_df['vote_average'] > 7.3]\n",
        "# --> print(\"The shape of movies_rating_over_7.3  : \" , movies_rating_over_7_3.shape)"
      ],
      "execution_count": null,
      "outputs": []
    },
    {
      "cell_type": "code",
      "metadata": {
        "id": "bT57GX1lZ2f4",
        "colab_type": "code",
        "colab": {}
      },
      "source": [
        "# Select Action movies \n",
        "action_movies  = dataset[dataset['main_genre'] == 'Action']\n",
        "# -->print(\"The shape of action movies  : \" , action_movies.shape)"
      ],
      "execution_count": null,
      "outputs": []
    },
    {
      "cell_type": "code",
      "metadata": {
        "id": "evgZCSj_aU9C",
        "colab_type": "code",
        "colab": {
          "base_uri": "https://localhost:8080/",
          "height": 54
        },
        "outputId": "5083ce3b-1f10-4356-8772-0cfee0e2bda4"
      },
      "source": [
        "# Get the mean rating of all movies \n",
        "print(\"The mean rating of all movies : \" , dataset['vote_average'].mean())"
      ],
      "execution_count": null,
      "outputs": [
        {
          "output_type": "stream",
          "text": [
            "The mean rating of all movies :  6.092171559442011\n"
          ],
          "name": "stdout"
        }
      ]
    },
    {
      "cell_type": "code",
      "metadata": {
        "id": "ruy1UMV2aZsX",
        "colab_type": "code",
        "colab": {}
      },
      "source": [
        "count = dataset['main_genre'].value_counts()"
      ],
      "execution_count": null,
      "outputs": []
    },
    {
      "cell_type": "code",
      "metadata": {
        "id": "v49GQ6_0ak4q",
        "colab_type": "code",
        "colab": {
          "base_uri": "https://localhost:8080/",
          "height": 441
        },
        "outputId": "747c5644-218c-4937-a0ac-8a8a645518cf"
      },
      "source": [
        "count.plot(kind = \"bar\" , figsize=(15,5))\n",
        "plt.title(\"count of genre movie\" , fontdict = {'color':  'darkred', 'size': 16})\n",
        "plt.xticks(color='orange', rotation=45, fontsize='15', horizontalalignment='right')\n",
        "plt.show()"
      ],
      "execution_count": null,
      "outputs": [
        {
          "output_type": "display_data",
          "data": {
            "image/png": "[encoded data removed]",
            "text/plain": [
              "<Figure size 1080x360 with 1 Axes>"
            ]
          },
          "metadata": {
            "tags": []
          }
        }
      ]
    },
    {
      "cell_type": "code",
      "metadata": {
        "id": "IQPVMqF1at5I",
        "colab_type": "code",
        "colab": {
          "base_uri": "https://localhost:8080/",
          "height": 417
        },
        "outputId": "d7079be3-95df-4e06-8ae1-48956173ace9"
      },
      "source": [
        "# approximately the vote average \n",
        "s1 = dataset['vote_average']\n",
        "dataset['rounded_average'] = s1.round()\n",
        "dataset[['vote_average','rounded_average']]"
      ],
      "execution_count": null,
      "outputs": [
        {
          "output_type": "execute_result",
          "data": {
            "text/html": [
              "<div>\n",
              "<style scoped>\n",
              "    .dataframe tbody tr th:only-of-type {\n",
              "        vertical-align: middle;\n",
              "    }\n",
              "\n",
              "    .dataframe tbody tr th {\n",
              "        vertical-align: top;\n",
              "    }\n",
              "\n",
              "    .dataframe thead th {\n",
              "        text-align: right;\n",
              "    }\n",
              "</style>\n",
              "<table border=\"1\" class=\"dataframe\">\n",
              "  <thead>\n",
              "    <tr style=\"text-align: right;\">\n",
              "      <th></th>\n",
              "      <th>vote_average</th>\n",
              "      <th>rounded_average</th>\n",
              "    </tr>\n",
              "  </thead>\n",
              "  <tbody>\n",
              "    <tr>\n",
              "      <th>0</th>\n",
              "      <td>7.2</td>\n",
              "      <td>7.0</td>\n",
              "    </tr>\n",
              "    <tr>\n",
              "      <th>1</th>\n",
              "      <td>6.9</td>\n",
              "      <td>7.0</td>\n",
              "    </tr>\n",
              "    <tr>\n",
              "      <th>2</th>\n",
              "      <td>6.3</td>\n",
              "      <td>6.0</td>\n",
              "    </tr>\n",
              "    <tr>\n",
              "      <th>3</th>\n",
              "      <td>7.6</td>\n",
              "      <td>8.0</td>\n",
              "    </tr>\n",
              "    <tr>\n",
              "      <th>4</th>\n",
              "      <td>6.1</td>\n",
              "      <td>6.0</td>\n",
              "    </tr>\n",
              "    <tr>\n",
              "      <th>...</th>\n",
              "      <td>...</td>\n",
              "      <td>...</td>\n",
              "    </tr>\n",
              "    <tr>\n",
              "      <th>4798</th>\n",
              "      <td>6.6</td>\n",
              "      <td>7.0</td>\n",
              "    </tr>\n",
              "    <tr>\n",
              "      <th>4799</th>\n",
              "      <td>5.9</td>\n",
              "      <td>6.0</td>\n",
              "    </tr>\n",
              "    <tr>\n",
              "      <th>4800</th>\n",
              "      <td>7.0</td>\n",
              "      <td>7.0</td>\n",
              "    </tr>\n",
              "    <tr>\n",
              "      <th>4801</th>\n",
              "      <td>5.7</td>\n",
              "      <td>6.0</td>\n",
              "    </tr>\n",
              "    <tr>\n",
              "      <th>4802</th>\n",
              "      <td>6.3</td>\n",
              "      <td>6.0</td>\n",
              "    </tr>\n",
              "  </tbody>\n",
              "</table>\n",
              "<p>4803 rows × 2 columns</p>\n",
              "</div>"
            ],
            "text/plain": [
              "      vote_average  rounded_average\n",
              "0              7.2              7.0\n",
              "1              6.9              7.0\n",
              "2              6.3              6.0\n",
              "3              7.6              8.0\n",
              "4              6.1              6.0\n",
              "...            ...              ...\n",
              "4798           6.6              7.0\n",
              "4799           5.9              6.0\n",
              "4800           7.0              7.0\n",
              "4801           5.7              6.0\n",
              "4802           6.3              6.0\n",
              "\n",
              "[4803 rows x 2 columns]"
            ]
          },
          "metadata": {
            "tags": []
          },
          "execution_count": 13
        }
      ]
    },
    {
      "cell_type": "code",
      "metadata": {
        "id": "rPemiMMDvHYG",
        "colab_type": "code",
        "colab": {}
      },
      "source": [
        "# change type of column release_date to datetime type\n",
        "dataset['release_date'] = pd.to_datetime(dataset['release_date'])"
      ],
      "execution_count": null,
      "outputs": []
    },
    {
      "cell_type": "code",
      "metadata": {
        "id": "jFwl4sDguhVF",
        "colab_type": "code",
        "colab": {}
      },
      "source": [
        "# create new three columns \n",
        "# to split the movie realse date into year, month and day  \n",
        "dataset['year'] = dataset['release_date'].dt.year\n",
        "dataset['month'] = dataset['release_date'].dt.month\n",
        "dataset['day'] = dataset['release_date'].dt.day\n",
        "# -->dataset.head()"
      ],
      "execution_count": null,
      "outputs": []
    },
    {
      "cell_type": "code",
      "metadata": {
        "id": "-Iol_ysXwPOH",
        "colab_type": "code",
        "colab": {
          "base_uri": "https://localhost:8080/",
          "height": 54
        },
        "outputId": "27657705-c520-4d2e-c759-1faa2517da2d"
      },
      "source": [
        "# Get the number of movies released in 2013\n",
        "print(\"The number of movies released in 2013 is\" , dataset[dataset['year'] == 2013].shape[0])"
      ],
      "execution_count": null,
      "outputs": [
        {
          "output_type": "stream",
          "text": [
            "The number of movies released in 2013 is 231\n"
          ],
          "name": "stdout"
        }
      ]
    },
    {
      "cell_type": "code",
      "metadata": {
        "id": "eUKpIsd5yEEy",
        "colab_type": "code",
        "colab": {
          "base_uri": "https://localhost:8080/",
          "height": 54
        },
        "outputId": "9d18aa38-afbe-4a01-bb0e-1c4b61efe8b1"
      },
      "source": [
        "# Get the number of movies released in September all of the years\n",
        "print(\"The number of movies released in september is\" , dataset[dataset['month'] == 9].shape[0])"
      ],
      "execution_count": null,
      "outputs": [
        {
          "output_type": "stream",
          "text": [
            "The number of movies released in september is 588\n"
          ],
          "name": "stdout"
        }
      ]
    },
    {
      "cell_type": "code",
      "metadata": {
        "id": "k_8pbICTyYyc",
        "colab_type": "code",
        "colab": {
          "base_uri": "https://localhost:8080/",
          "height": 54
        },
        "outputId": "114183fe-200a-46b5-880e-e5f65442253a"
      },
      "source": [
        "# Get the number of movies released after 1/1/2013\n",
        "print(\"The number of movies released after 1/1/2013 is\" , dataset[dataset['release_date'] > '1-1-2013'].shape[0])"
      ],
      "execution_count": null,
      "outputs": [
        {
          "output_type": "stream",
          "text": [
            "The number of movies released after 1/1/2013 is 786\n"
          ],
          "name": "stdout"
        }
      ]
    },
    {
      "cell_type": "code",
      "metadata": {
        "id": "rSrp-neay5UJ",
        "colab_type": "code",
        "colab": {}
      },
      "source": [
        "# make copy of dataset grouped by year column \n",
        "df_groupb_year = dataset.groupby('year')"
      ],
      "execution_count": null,
      "outputs": []
    },
    {
      "cell_type": "code",
      "metadata": {
        "id": "KUycaH_H1E2c",
        "colab_type": "code",
        "colab": {}
      },
      "source": [
        "# Get the rating vote average of movies per year \n",
        "rating_year =  df_groupb_year['vote_average'].mean() "
      ],
      "execution_count": null,
      "outputs": []
    },
    {
      "cell_type": "code",
      "metadata": {
        "id": "Lee1Ciwa2ejF",
        "colab_type": "code",
        "colab": {}
      },
      "source": [
        "# print the rating vote average per year \n",
        "\n",
        "# -->for i in range(rating_year.shape[0]):\n",
        "# -->  print(f'the rating average in {rating_year.index[i]} is {rating_year.iloc[i].round(2)}')"
      ],
      "execution_count": null,
      "outputs": []
    },
    {
      "cell_type": "code",
      "metadata": {
        "id": "eF66e2jr4ZcW",
        "colab_type": "code",
        "colab": {
          "base_uri": "https://localhost:8080/",
          "height": 54
        },
        "outputId": "5d1f9588-ba32-4f9e-c46d-2e5219466cc6"
      },
      "source": [
        "# Get the number of movies have rating greater than 6.5\n",
        "print(f\"The number of years had rating average rating > 6.5 is {rating_year[rating_year > 6.5].shape[0]}\")"
      ],
      "execution_count": null,
      "outputs": [
        {
          "output_type": "stream",
          "text": [
            "The number of years had rating average rating > 6.5 is 48\n"
          ],
          "name": "stdout"
        }
      ]
    },
    {
      "cell_type": "code",
      "metadata": {
        "id": "1Lyt0G0g56Vj",
        "colab_type": "code",
        "colab": {}
      },
      "source": [
        "# Make copy of dateset\n",
        "# Create new month_year column \n",
        "# has year and month that the movie released in \n",
        "df = dataset \n",
        "df['month_year'] = df['release_date'].dt.to_period('M')\n"
      ],
      "execution_count": null,
      "outputs": []
    },
    {
      "cell_type": "code",
      "metadata": {
        "id": "1w4nuSEp_6uK",
        "colab_type": "code",
        "colab": {}
      },
      "source": [
        "# make copy of dataset grouped by month_year column \n",
        "df_groupby_monthyear = df.groupby('month_year')"
      ],
      "execution_count": null,
      "outputs": []
    },
    {
      "cell_type": "code",
      "metadata": {
        "id": "yef8bh2fAoh-",
        "colab_type": "code",
        "colab": {}
      },
      "source": [
        "# Get the average of popularity of movies \n",
        "popularity_YM =  df_groupby_monthyear['popularity'].mean()"
      ],
      "execution_count": null,
      "outputs": []
    },
    {
      "cell_type": "code",
      "metadata": {
        "id": "4-5wiWxfBqEK",
        "colab_type": "code",
        "colab": {}
      },
      "source": [
        "# print the rating vote average per year \n",
        "\n",
        "# -->for i in range(popularity_YM.shape[0]):\n",
        "# -->  print(f'the popularity average in {popularity_YM.index[i]} is {popularity_YM.iloc[i].round(2)}')"
      ],
      "execution_count": null,
      "outputs": []
    },
    {
      "cell_type": "code",
      "metadata": {
        "id": "KpCNeBb3CJ3S",
        "colab_type": "code",
        "colab": {}
      },
      "source": [
        "# Get the value counts of original language of movies \n",
        "count_lan = dataset['original_language'].value_counts()\n",
        "# --> print(count_lan)"
      ],
      "execution_count": null,
      "outputs": []
    },
    {
      "cell_type": "code",
      "metadata": {
        "id": "EsGLH4GqooUB",
        "colab_type": "code",
        "colab": {}
      },
      "source": [
        "# Make copy of dataset and group by main_genre column\n",
        "df_groupby_maingenre = dataset.groupby('main_genre')\n",
        "# -->df_groupby_maingenre.first()"
      ],
      "execution_count": null,
      "outputs": []
    },
    {
      "cell_type": "code",
      "metadata": {
        "id": "oJXHJdKzY_wY",
        "colab_type": "code",
        "colab": {}
      },
      "source": [
        "# Get the value counts of original language of movies per genre\n",
        "count_with_english = df_groupby_maingenre['original_language'].value_counts()\n",
        "# --> count_with_english"
      ],
      "execution_count": null,
      "outputs": []
    },
    {
      "cell_type": "code",
      "metadata": {
        "id": "O4GVcsLrdlTR",
        "colab_type": "code",
        "colab": {}
      },
      "source": [
        "# Get the count of all genre\n",
        "# Get the top five genres\n",
        "genre_count  = dataset['main_genre'].value_counts()\n",
        "top5_index = genre_count.index[0:5]\n",
        "\n",
        "# Get the rows with top five genres in new dataframe\n",
        "df_top5 = dataset[dataset['main_genre'].isin(top5_index)]\n",
        "genre_etop5_count = df_top5['main_genre'].value_counts()"
      ],
      "execution_count": null,
      "outputs": []
    },
    {
      "cell_type": "code",
      "metadata": {
        "id": "oD_IyI4RgGxW",
        "colab_type": "code",
        "colab": {
          "base_uri": "https://localhost:8080/",
          "height": 411
        },
        "outputId": "80268417-f93f-4812-b5f8-050294a4fa4e"
      },
      "source": [
        "# Present the count of top five genres in bar char\n",
        "genre_etop5_count.plot(kind = \"bar\" , figsize=(15,5))\n",
        "plt.title(\"count of genre movie\" , fontdict = {'color':  'darkred', 'size': 16})\n",
        "plt.xticks(color='orange', rotation=45, fontsize='15', horizontalalignment='right')\n",
        "plt.show()"
      ],
      "execution_count": null,
      "outputs": [
        {
          "output_type": "display_data",
          "data": {
            "image/png": "[encoded data removed]",
            "text/plain": [
              "<Figure size 1080x360 with 1 Axes>"
            ]
          },
          "metadata": {
            "tags": []
          }
        }
      ]
    },
    {
      "cell_type": "code",
      "metadata": {
        "id": "Fc32XKxFgvaO",
        "colab_type": "code",
        "colab": {}
      },
      "source": [
        "df  = df_top5.groupby('main_genre')\n",
        "pop_count = df['popularity'].mean().round(0)"
      ],
      "execution_count": null,
      "outputs": []
    },
    {
      "cell_type": "code",
      "metadata": {
        "id": "mKYJtodGjMpZ",
        "colab_type": "code",
        "colab": {
          "base_uri": "https://localhost:8080/",
          "height": 428
        },
        "outputId": "bd6550ab-3814-4e85-8658-72957141d9e0"
      },
      "source": [
        "# Present the count of top five genres in bar char\n",
        "pop_count.plot(kind = \"bar\" , figsize=(15,5))\n",
        "plt.title(\"count of popularity per genre movie\" , fontdict = {'color':  'darkred', 'size': 16})\n",
        "plt.xticks(color='orange', rotation=45, fontsize='15', horizontalalignment='right')\n",
        "plt.show()"
      ],
      "execution_count": null,
      "outputs": [
        {
          "output_type": "display_data",
          "data": {
            "image/png": "[encoded data removed]",
            "text/plain": [
              "<Figure size 1080x360 with 1 Axes>"
            ]
          },
          "metadata": {
            "tags": []
          }
        }
      ]
    },
    {
      "cell_type": "code",
      "metadata": {
        "id": "5RWOk6T9ja07",
        "colab_type": "code",
        "colab": {
          "base_uri": "https://localhost:8080/",
          "height": 379
        },
        "outputId": "9a89190d-7e15-4bc4-f613-2e5fac7a5263"
      },
      "source": [
        "\n",
        "# Present the distribution of popularity\n",
        "dataset['popularity'].plot(kind = \"box\" , figsize=(15,5),)\n",
        "plt.title(\"distribution of popularity\" , fontdict = {'color':  'darkred', 'size': 16})\n",
        "plt.xticks(color='orange', rotation=0, fontsize='30', horizontalalignment='center')\n",
        "plt.show()"
      ],
      "execution_count": null,
      "outputs": [
        {
          "output_type": "display_data",
          "data": {
            "image/png": "[encoded data removed]",
            "text/plain": [
              "<Figure size 1080x360 with 1 Axes>"
            ]
          },
          "metadata": {
            "tags": []
          }
        }
      ]
    }
  ]
}